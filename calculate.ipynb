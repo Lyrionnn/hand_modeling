{
 "cells": [
  {
   "cell_type": "markdown",
   "metadata": {},
   "source": [
    "载入数据"
   ]
  },
  {
   "cell_type": "code",
   "execution_count": 13,
   "metadata": {},
   "outputs": [
    {
     "name": "stdout",
     "output_type": "stream",
     "text": [
      "File p445L.json does not exist in the label folder.\n",
      "File p449L.json does not exist in the label folder.\n",
      "File p544L.json does not exist in the label folder.\n",
      "File p545L.json does not exist in the label folder.\n",
      "File p546L.json does not exist in the label folder.\n",
      "File p804L.json does not exist in the label folder.\n",
      "File p828L.json does not exist in the label folder.\n",
      "File p857L.json does not exist in the label folder.\n",
      "File p871L.json does not exist in the label folder.\n",
      "File p908L.json does not exist in the label folder.\n",
      "File p936L.json does not exist in the label folder.\n",
      "['mask_output/all/p353L.json', 'mask_output/all/p354L.json', 'mask_output/all/p355L.json', 'mask_output/all/p357L.json', 'mask_output/all/p362L.json', 'mask_output/all/p363L.json', 'mask_output/all/p366L.json', 'mask_output/all/p367L.json', 'mask_output/all/p368L.json', 'mask_output/all/p370L.json', 'mask_output/all/p372L.json', 'mask_output/all/p373L.json', 'mask_output/all/p374L.json', 'mask_output/all/p376L.json', 'mask_output/all/p377L.json', 'mask_output/all/p380L.json', 'mask_output/all/p381L.json', 'mask_output/all/p384L.json', 'mask_output/all/p385L.json', 'mask_output/all/p389L.json', 'mask_output/all/p391L.json', 'mask_output/all/p392L.json', 'mask_output/all/p396L.json', 'mask_output/all/p398L.json', 'mask_output/all/p399L.json', 'mask_output/all/p400L.json', 'mask_output/all/p407L.json', 'mask_output/all/p408L.json', 'mask_output/all/p409L.json', 'mask_output/all/p410L.json', 'mask_output/all/p411L.json', 'mask_output/all/p412L.json', 'mask_output/all/p415L.json', 'mask_output/all/p418L.json', 'mask_output/all/p421L.json', 'mask_output/all/p422L.json', 'mask_output/all/p427L.json', 'mask_output/all/p434L.json', 'mask_output/all/p435L.json', 'mask_output/all/p439L.json', 'mask_output/all/p440L.json', 'mask_output/all/p444L.json', 'mask_output/all/p450L.json', 'mask_output/all/p455L.json', 'mask_output/all/p463L.json', 'mask_output/all/p465L.json', 'mask_output/all/p472L.json', 'mask_output/all/p482L.json', 'mask_output/all/p517L.json', 'mask_output/all/p520L.json', 'mask_output/all/p521L.json', 'mask_output/all/p526L.json', 'mask_output/all/p536L.json', 'mask_output/all/p538L.json', 'mask_output/all/p542L.json', 'mask_output/all/p543L.json', 'mask_output/all/p548L.json', 'mask_output/all/p559L.json', 'mask_output/all/p572L.json', 'mask_output/all/p573L.json', 'mask_output/all/p575L.json', 'mask_output/all/p577L.json', 'mask_output/all/p581L.json', 'mask_output/all/p582L.json', 'mask_output/all/p584L.json', 'mask_output/all/p585L.json', 'mask_output/all/p587L.json', 'mask_output/all/p588L.json', 'mask_output/all/p604L.json', 'mask_output/all/p605L.json', 'mask_output/all/p617L.json', 'mask_output/all/p623L.json', 'mask_output/all/p627L.json', 'mask_output/all/p631L.json', 'mask_output/all/p639L.json', 'mask_output/all/p648L.json', 'mask_output/all/p657L.json', 'mask_output/all/p658L.json', 'mask_output/all/p663L.json', 'mask_output/all/p664L.json', 'mask_output/all/p665L.json', 'mask_output/all/p666L.json', 'mask_output/all/p668L.json', 'mask_output/all/p672L.json', 'mask_output/all/p680L.json', 'mask_output/all/p681L.json', 'mask_output/all/p682L.json', 'mask_output/all/p685L.json', 'mask_output/all/p687L.json', 'mask_output/all/p694L.json', 'mask_output/all/p710L.json', 'mask_output/all/p711L.json', 'mask_output/all/p716L.json', 'mask_output/all/p719L.json', 'mask_output/all/p720L.json', 'mask_output/all/p726L.json', 'mask_output/all/p727L.json', 'mask_output/all/p738L.json', 'mask_output/all/p743L.json', 'mask_output/all/p744L.json', 'mask_output/all/p747L.json', 'mask_output/all/p749L.json', 'mask_output/all/p750L.json', 'mask_output/all/p751L.json', 'mask_output/all/p752L.json', 'mask_output/all/p772L.json', 'mask_output/all/p773L.json', 'mask_output/all/p774L.json', 'mask_output/all/p776L.json', 'mask_output/all/p784L.json', 'mask_output/all/p785L.json', 'mask_output/all/p809L.json', 'mask_output/all/p810L.json', 'mask_output/all/p811L.json', 'mask_output/all/p816L.json', 'mask_output/all/p817L.json', 'mask_output/all/p834L.json', 'mask_output/all/p835L.json', 'mask_output/all/p845L.json', 'mask_output/all/p886L.json', 'mask_output/all/p888L.json', 'mask_output/all/p894L.json', 'mask_output/all/p900L.json', 'mask_output/all/p905L.json', 'mask_output/all/p912L.json', 'mask_output/all/p917L.json', 'mask_output/all/p918L.json', 'mask_output/all/p924L.json', 'mask_output/all/p925L.json']\n"
     ]
    }
   ],
   "source": [
    "import os\n",
    "import json\n",
    "\n",
    "# 定义文件路径\n",
    "label_folder = 'mask_output/all'  # label文件夹路径\n",
    "txt_file = 'mask_output/jinzhuibing.txt'  # jinzhuibing.txt文件路径\n",
    "\n",
    "# 读取txt文件中的序号名\n",
    "with open(txt_file, 'r') as file:\n",
    "    sequence_numbers = file.read().splitlines()\n",
    "\n",
    "JZB = []\n",
    "\n",
    "# 遍历label文件夹中的文件\n",
    "for seq_num in sequence_numbers:\n",
    "    json_file = f'p{seq_num}L.json'\n",
    "    json_path = os.path.join(label_folder, json_file)\n",
    "    \n",
    "    # 检查文件是否存在\n",
    "    if os.path.exists(json_path):\n",
    "        JZB.append(json_path)\n",
    "        # with open(json_path, 'r') as file:\n",
    "        #     data = json.load(file)\n",
    "        #     # 在这里处理你的json数据\n",
    "        #     print(f'Processing file: {json_file}')\n",
    "        #     print(data)\n",
    "    else:\n",
    "        print(f'File {json_file} does not exist in the label folder.')\n",
    "\n",
    "print(JZB)\n",
    "\n"
   ]
  },
  {
   "cell_type": "code",
   "execution_count": null,
   "metadata": {},
   "outputs": [],
   "source": [
    "import json\n",
    "\n",
    "# 打开JSON文件并加载数据\n",
    "with open('p1560L.json', 'r') as file:\n",
    "    data = json.load(file)\n",
    "\n",
    "# 提取 \"label\" 字段到一个列表\n",
    "label = data[\"label\"]"
   ]
  },
  {
   "cell_type": "code",
   "execution_count": null,
   "metadata": {},
   "outputs": [],
   "source": [
    "print(label)"
   ]
  },
  {
   "cell_type": "markdown",
   "metadata": {},
   "source": [
    "数据定义"
   ]
  },
  {
   "cell_type": "code",
   "execution_count": null,
   "metadata": {},
   "outputs": [],
   "source": [
    "#以下的数字代表是这个点的x坐标序号，+1 为y坐标序号 \n",
    "# 0-21   index = 2 * num + 1\n",
    "WRIST = 1 # 腕部关键点  \n",
    "THUMB_TIP = 9 #大拇指顶点\n",
    "INDEX_FINGER_TIP = 17 #食指顶点\n",
    "MIDDLE_FINGER_TIP = 25 #中指顶点\n",
    "RING_FINGER_TIP = 33 #无名指顶点\n",
    "PINKY_TIP = 41#小指顶点\n",
    "\n",
    "'''\n",
    "WT  大拇指 ——> 腕部\n",
    "WI  食指\n",
    "WM  中指\n",
    "WR  无名指\n",
    "WP  小指\n",
    "'''\n",
    "\n",
    "WT=[]\n",
    "WI = []\n",
    "WM = []\n",
    "WR = []\n",
    "WP = []"
   ]
  },
  {
   "cell_type": "markdown",
   "metadata": {},
   "source": [
    "计算局部最大值和最小值"
   ]
  },
  {
   "cell_type": "code",
   "execution_count": null,
   "metadata": {},
   "outputs": [],
   "source": [
    "def find_local_extremes(numbers):\n",
    "    if len(numbers) < 3:\n",
    "        return \"输入的数字串过短，无法找到局部最大值和最小值\"\n",
    "\n",
    "    extremes = []\n",
    "    transitions = []  # 记录时间变化点\n",
    "\n",
    "    for i in range(1, len(numbers) - 1):\n",
    "        if numbers[i] >= numbers[i - 1] and numbers[i] >= numbers[i + 1] and numbers[i - 1] != numbers[i + 1]:\n",
    "            extremes.append((i, numbers[i], \"最高点\"))\n",
    "        elif numbers[i] <= numbers[i - 1] and numbers[i] <= numbers[i + 1] and numbers[i - 1] != numbers[i + 1]:\n",
    "            extremes.append((i, numbers[i], \"最低点\"))\n",
    "        elif numbers[i - 1] == numbers[i + 1]:\n",
    "            print(\"重复\")\n",
    "    \n",
    "    if len(extremes) == 0:\n",
    "        return \"没有找到局部最大值和最小值\"\n",
    "\n",
    "    # 记录时间变化点\n",
    "    for i in range(1, len(extremes)):\n",
    "        if extremes[i][2] == \"最高点\" and extremes[i-1][2] == \"最低点\":\n",
    "            transitions.append((extremes[i-1][0], extremes[i][0], \"升为最高点\", ))\n",
    "        elif extremes[i][2] == \"最低点\" and extremes[i-1][2] == \"最高点\":\n",
    "            transitions.append((extremes[i-1][0], extremes[i][0], \"降为最低点\"))\n",
    "\n",
    "    return extremes, transitions\n",
    "\n"
   ]
  },
  {
   "cell_type": "markdown",
   "metadata": {},
   "source": [
    "计算抓伸周期"
   ]
  },
  {
   "cell_type": "code",
   "execution_count": null,
   "metadata": {},
   "outputs": [],
   "source": [
    "def calculate_transition_times(transitions):\n",
    "    high_to_low_times = []\n",
    "    low_to_high_times = []\n",
    "\n",
    "    for i in range(1, len(transitions)):\n",
    "        if transitions[i][2] == \"降为最低点\" :\n",
    "            high_to_low_time = transitions[i][1] - transitions[i][0]\n",
    "            high_to_low_times.append(high_to_low_time)\n",
    "        elif transitions[i][2] == \"升为最高点\" :\n",
    "            low_to_high_time = transitions[i][1] - transitions[i][0]\n",
    "            low_to_high_times.append(low_to_high_time)\n",
    "\n",
    "    return high_to_low_times, low_to_high_times"
   ]
  },
  {
   "cell_type": "markdown",
   "metadata": {},
   "source": [
    "计算2、3、4、5指相对于腕部关键点的距离"
   ]
  },
  {
   "cell_type": "code",
   "execution_count": null,
   "metadata": {},
   "outputs": [],
   "source": [
    "import math\n",
    "\n",
    "\n",
    "for line in label:\n",
    "    x1, y1 = line[1], line[2]\n",
    "    coordinates = [(line[i], line[i + 1]) for i in range(9, 42, 8)]\n",
    "\n",
    "    distances = [math.sqrt((x - x1) ** 2 + (y - y1) ** 2) for x, y in coordinates]\n",
    "\n",
    "    wt_distance, wi_distance, wm_distance, wr_distance, wp_distance = distances\n",
    "\n",
    "    WT.append(wt_distance)\n",
    "    WI.append(wi_distance)\n",
    "    WM.append(wm_distance)\n",
    "    WR.append(wr_distance)\n",
    "    WP.append(wp_distance)\n",
    "\n",
    "print(len(WT))\n",
    "print(len(WI))\n"
   ]
  },
  {
   "cell_type": "code",
   "execution_count": null,
   "metadata": {},
   "outputs": [],
   "source": [
    "def get_results(data):\n",
    "    extremes, transitions = find_local_extremes(data)\n",
    "    high_to_low_times, low_to_high_times = calculate_transition_times(transitions)\n",
    "    return extremes, transitions, high_to_low_times, low_to_high_times\n"
   ]
  },
  {
   "cell_type": "code",
   "execution_count": null,
   "metadata": {},
   "outputs": [],
   "source": [
    "wt_extremes, wt_transitions, wt_high_to_low_times, wt_low_to_high_times = get_results(WT)\n",
    "wi_extremes, wi_transitions, wi_high_to_low_times, wi_low_to_high_times = get_results(WI)\n",
    "wm_extremes, wm_transitions, wm_high_to_low_times, wm_low_to_high_times = get_results(WM)\n",
    "wr_extremes, wr_transitions, wr_high_to_low_times, wr_low_to_high_times = get_results(WR)\n",
    "wp_extremes, wp_transitions, wp_high_to_low_times, wp_low_to_high_times = get_results(WP)\n"
   ]
  },
  {
   "cell_type": "code",
   "execution_count": null,
   "metadata": {},
   "outputs": [],
   "source": [
    "from tabulate import  tabulate\n",
    "\n",
    "wt_info = ['WT', max(wt_high_to_low_times), min(wt_high_to_low_times), sum(wt_high_to_low_times) / len(wt_high_to_low_times), max(wt_low_to_high_times), min(wt_low_to_high_times),sum(wt_low_to_high_times) / len(wt_low_to_high_times)]\n",
    "wi_info = ['WI', max(wi_high_to_low_times), min(wi_high_to_low_times), sum(wi_high_to_low_times) / len(wi_high_to_low_times), max(wi_low_to_high_times), min(wi_low_to_high_times),sum(wi_low_to_high_times) / len(wi_low_to_high_times)]\n",
    "wm_info = ['WM', max(wm_high_to_low_times), min(wm_high_to_low_times), sum(wm_high_to_low_times) / len(wm_high_to_low_times), max(wm_low_to_high_times), min(wm_low_to_high_times),sum(wm_low_to_high_times) / len(wm_low_to_high_times)]\n",
    "wr_info = ['WR', max(wr_high_to_low_times), min(wr_high_to_low_times), sum(wr_high_to_low_times) / len(wr_high_to_low_times), max(wr_low_to_high_times), min(wr_low_to_high_times),sum(wr_low_to_high_times) / len(wr_low_to_high_times)]\n",
    "wp_info = ['WP', max(wp_high_to_low_times), min(wp_high_to_low_times), sum(wp_high_to_low_times) / len(wp_high_to_low_times), max(wp_low_to_high_times), min(wp_low_to_high_times),sum(wp_low_to_high_times) / len(wp_low_to_high_times)]\n",
    "\n",
    "table_header = ['name', 'high_to_low_time: max_time', 'min_time', 'avg_time',  'low_to_high_time: max_time', 'min_time', 'avg_time']\n",
    "table_data =[wt_info, wi_info, wm_info, wr_info, wp_info]"
   ]
  },
  {
   "cell_type": "code",
   "execution_count": null,
   "metadata": {},
   "outputs": [],
   "source": [
    "print(tabulate(table_data, headers=table_header, tablefmt='fancy_grid'))"
   ]
  },
  {
   "cell_type": "code",
   "execution_count": null,
   "metadata": {},
   "outputs": [],
   "source": [
    "print(len(WI))"
   ]
  },
  {
   "cell_type": "code",
   "execution_count": null,
   "metadata": {},
   "outputs": [],
   "source": [
    "print(len(label))"
   ]
  },
  {
   "cell_type": "code",
   "execution_count": null,
   "metadata": {},
   "outputs": [],
   "source": [
    "import matplotlib.pyplot as plt\n",
    "from matplotlib.pyplot import MultipleLocator\n",
    "\n",
    "plt.figure(figsize=(20, 10))\n",
    "\n",
    "#plt.plot(WT, label=\"WT\")\n",
    "plt.plot(WI, label=\"WI\")\n",
    "plt.plot(WM, label=\"WM\")\n",
    "plt.plot(WR, label=\"WR\")\n",
    "plt.plot(WP, label=\"WP\")\n",
    "# 添加图例\n",
    "plt.legend()\n",
    "\n",
    "# 添加标签和标题\n",
    "plt.xlabel('frame')\n",
    "plt.ylabel('distance')\n",
    "plt.title('2-5 finger-wrist distance')\n",
    "\n",
    "#x_major_locator=MultipleLocator(50)\n",
    "#把x轴的刻度间隔设置为50，并存在变量里\n",
    "#y_major_locator=MultipleLocator(0.1)\n",
    "#把y轴的刻度间隔设置为0.1，并存在变量里\n",
    "#ax=plt.gca()\n",
    "#ax为两条坐标轴的实例\n",
    "#ax.xaxis.set_major_locator(x_major_locator)\n",
    "\n",
    "#ax.yaxis.set_major_locator(y_major_locator)\n",
    "\n",
    "plt.show()"
   ]
  },
  {
   "cell_type": "markdown",
   "metadata": {},
   "source": [
    "2指、5指根部关键点与手腕关键点所围成的面积"
   ]
  },
  {
   "cell_type": "code",
   "execution_count": null,
   "metadata": {},
   "outputs": [],
   "source": [
    "area_list = []\n",
    "for line in label :\n",
    "    x1, y1 = line[1], line[2]   #腕部关键点坐标\n",
    "    x2, y2 = line[17], line[18]\n",
    "    x3, y3 = line[41], line[42]\n",
    "    area = 0.5 * abs(x1 * (y2 - y3) + x2 * (y3 - y1) + x3 * (y1 - y2))\n",
    "    area_list.append(area)\n"
   ]
  },
  {
   "cell_type": "code",
   "execution_count": null,
   "metadata": {},
   "outputs": [],
   "source": [
    "import matplotlib.pyplot as plt\n",
    "\n",
    "\n",
    "\n",
    "plt.plot(WI, label=\"WI\")\n",
    "plt.plot(area_list, label=\"area\")\n",
    "\n",
    "# 添加图例\n",
    "plt.legend()\n",
    "\n",
    "# 添加标签和标题\n",
    "plt.xlabel('frame')\n",
    "plt.ylabel('value')\n",
    "plt.title('WI and area')\n",
    " \n",
    "# 显示图形\n",
    "plt.show()"
   ]
  },
  {
   "cell_type": "code",
   "execution_count": null,
   "metadata": {},
   "outputs": [],
   "source": [
    "import numpy as np\n",
    "from scipy.signal import medfilt\n",
    "\n",
    "def remove_jitter(signal, window_size=3):\n",
    "    # 使用中值滤波器平滑信号\n",
    "    smoothed_signal = medfilt(signal, kernel_size=window_size)\n",
    "    return smoothed_signal\n",
    "\n",
    "# 示例\n",
    "if __name__ == \"__main__\":\n",
    "    # 生成带抖动的示例波形\n",
    "    t = np.linspace(0, 1, 100)\n",
    "    noisy_signal = np.sin(2 * np.pi * 5 * t) + 0.2 * np.random.randn(100)\n",
    "\n",
    "    # 消除抖动\n",
    "    smoothed_signal = remove_jitter(noisy_signal)\n",
    "\n",
    "    # 绘制原始波形和平滑后的波形\n",
    "    import matplotlib.pyplot as plt\n",
    "\n",
    "    plt.plot(t, noisy_signal, label='Noisy Signal')\n",
    "    plt.plot(t, smoothed_signal, label='Smoothed Signal')\n",
    "    plt.legend()\n",
    "    plt.xlabel('Time')\n",
    "    plt.ylabel('Amplitude')\n",
    "    plt.title('Remove Jitter from Signal')\n",
    "    plt.show()\n"
   ]
  },
  {
   "cell_type": "code",
   "execution_count": null,
   "metadata": {},
   "outputs": [],
   "source": [
    "import matplotlib.pyplot as plt\n",
    "import scipy\n",
    "# 创建两个示例列表\n",
    "#WI = [1, 2, 3, 4, 5]\n",
    "#WM = [5, 4, 3, 2, 1]\n",
    "\n",
    "#tmp = [wi - wm for wi, wm in zip(WI, WM)]\n",
    "\n",
    "#tmp_smooth = scipy.signal.savgol_filter(tmp,11,3)\n",
    "\n",
    "WI_smooth = scipy.signal.savgol_filter(WI,13,3)\n",
    "\n",
    "# 绘制曲线\n",
    "plt.plot(WI, label='WI', marker='o')  # 绘制WT列表的曲线，使用圆点标记\n",
    "#plt.plot(WM, label='WM', marker='s')  # 绘制WM列表的曲线，使用正方形标记\n",
    "#plt.plot(tmp, label='tmp(WI - WM)', linestyle='--', marker='^')\n",
    "#plt.plot(tmp_smooth, label='tmp_smooth', marker='.')\n",
    "plt.plot(WI_smooth, label='WI_smooth')\n",
    "\n",
    "# 添加图例\n",
    "plt.legend()\n",
    "\n",
    "# 添加标题和标签\n",
    "plt.title('WI and WI_smooth')\n",
    "plt.xlabel('frame')\n",
    "plt.ylabel('distance')\n",
    "\n",
    "# 显示图形\n",
    "plt.show()"
   ]
  },
  {
   "cell_type": "code",
   "execution_count": null,
   "metadata": {},
   "outputs": [],
   "source": [
    "import matplotlib.pyplot as plt\n",
    "from matplotlib.pyplot import MultipleLocator\n",
    "\n",
    "plt.figure(figsize=(20, 10))\n",
    "\n",
    "WI_smooth = scipy.signal.savgol_filter(WI,15,3)\n",
    "WM_smooth = scipy.signal.savgol_filter(WM,15,3)\n",
    "WR_smooth = scipy.signal.savgol_filter(WR,15,3)\n",
    "WP_smooth = scipy.signal.savgol_filter(WP,15,3)\n",
    "#plt.plot(WT, label=\"WT\")\n",
    "#plt.plot(WI, label=\"WI\")\n",
    "plt.plot(WI_smooth,label=\"WI_smooth\")\n",
    "#plt.plot(WM, label=\"WM\")\n",
    "plt.plot(WM_smooth, label=\"WM_smooth\")\n",
    "#plt.plot(WR, label=\"WR\")\n",
    "plt.plot(WR_smooth, label=\"WR_smooth\")\n",
    "#plt.plot(WP, label=\"WP\")\n",
    "plt.plot(WP_smooth, label=\"WP_smooth\")\n",
    "# 添加图例\n",
    "plt.legend()\n",
    "\n",
    "# 添加标签和标题\n",
    "plt.xlabel('frame')\n",
    "plt.ylabel('distance')\n",
    "plt.title('2-5 finger-wrist distance')\n",
    "\n",
    "#x_major_locator=MultipleLocator(50)\n",
    "#把x轴的刻度间隔设置为50，并存在变量里\n",
    "#y_major_locator=MultipleLocator(0.1)\n",
    "#把y轴的刻度间隔设置为0.1，并存在变量里\n",
    "#ax=plt.gca()\n",
    "#ax为两条坐标轴的实例\n",
    "#ax.xaxis.set_major_locator(x_major_locator)\n",
    "\n",
    "#ax.yaxis.set_major_locator(y_major_locator)\n",
    "\n",
    "plt.show()"
   ]
  },
  {
   "cell_type": "code",
   "execution_count": null,
   "metadata": {},
   "outputs": [],
   "source": [
    "print(wi_smooth_extremes)\n",
    "print(len(wi_smooth_extremes))"
   ]
  },
  {
   "cell_type": "code",
   "execution_count": null,
   "metadata": {},
   "outputs": [],
   "source": [
    "print(len(WI_smooth))\n",
    "print(len(WM_smooth))"
   ]
  },
  {
   "cell_type": "code",
   "execution_count": null,
   "metadata": {},
   "outputs": [],
   "source": [
    "wi_smooth_extremes, wi_smooth_transitions, wi_smooth_high_to_low_times, wi_smooth_low_to_high_times = get_results(WI_smooth)\n",
    "wm_smooth_extremes, wm_smooth_transitions, wm_smooth_high_to_low_times, wm_smooth_low_to_high_times = get_results(WM_smooth)\n",
    "wr_smooth_extremes, wr_smooth_transitions, wr_smooth_high_to_low_times, wr_smooth_low_to_high_times = get_results(WR_smooth)\n",
    "wp_smooth_extremes, wp_smooth_transitions, wp_smooth_high_to_low_times, wp_smooth_low_to_high_times = get_results(WP_smooth)\n"
   ]
  },
  {
   "cell_type": "code",
   "execution_count": null,
   "metadata": {},
   "outputs": [],
   "source": [
    "def calculate_time_differences(curve1_transitions, curve2_transitions):\n",
    "    # 初始化变量\n",
    "    start_differences = []\n",
    "    end_differences = []\n",
    "\n",
    "    # 遍历每个周期\n",
    "    for i in range(min(len(curve1_transitions), len(curve2_transitions))):\n",
    "        # 找到两条曲线的第一个极值点的帧数\n",
    "        start_frame_curve1 = curve1_transitions[i][0]\n",
    "        start_frame_curve2 = curve2_transitions[i][0]\n",
    "\n",
    "        # 找到两条曲线的最后一个极值点的帧数\n",
    "        end_frame_curve1 = curve1_transitions[i][1]\n",
    "        end_frame_curve2 = curve2_transitions[i][1]\n",
    "        \n",
    "\n",
    "        # 计算启动时间差和结束时间差，并添加到列表中\n",
    "        if i % 2 == 0 :\n",
    "            start_differences.append(start_frame_curve2 - start_frame_curve1)\n",
    "        else:\n",
    "            end_differences.append(end_frame_curve2 - end_frame_curve1)\n",
    "\n",
    "    return start_differences, end_differences\n",
    "\n",
    "# 例子：两条曲线的局部极值点信息（假设有多个周期）\n",
    "''' wi_smooth_transitions = [\n",
    "    [(0, 10, \"升为最高点\"), (10, 15, \"降为最低点\"), (20, 30, \"升为最高点\")],\n",
    "    # ... 其他周期的极值点信息\n",
    "]\n",
    "\n",
    "wm_smooth_transitions = [\n",
    "    [(5, 15, \"升为最高点\"), (15, 20, \"降为最低点\"), (25, 35, \"升为最高点\")],\n",
    "    # ... 其他周期的极值点信息\n",
    "] '''\n",
    "\n",
    "# 计算时间差\n",
    "start_differences, end_differences = calculate_time_differences(wi_smooth_transitions, wm_smooth_transitions)\n",
    "\n",
    "# 打印结果\n",
    "for i in range(len(start_differences)):\n",
    "    print(f\"第{i + 1}周期启动时间差: {start_differences[i]} 帧\")\n",
    "    print(f\"第{i + 1}周期结束时间差: {end_differences[i]} 帧\")\n"
   ]
  },
  {
   "cell_type": "code",
   "execution_count": null,
   "metadata": {},
   "outputs": [],
   "source": [
    "print(wi_smooth_transitions[1][0])"
   ]
  },
  {
   "cell_type": "code",
   "execution_count": null,
   "metadata": {},
   "outputs": [],
   "source": [
    "for list in wi_smooth_transitions:\n",
    "    print(list)"
   ]
  }
 ],
 "metadata": {
  "kernelspec": {
   "display_name": "long",
   "language": "python",
   "name": "python3"
  },
  "language_info": {
   "codemirror_mode": {
    "name": "ipython",
    "version": 3
   },
   "file_extension": ".py",
   "mimetype": "text/x-python",
   "name": "python",
   "nbconvert_exporter": "python",
   "pygments_lexer": "ipython3",
   "version": "3.9.6"
  }
 },
 "nbformat": 4,
 "nbformat_minor": 2
}
