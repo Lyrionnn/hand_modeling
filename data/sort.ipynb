{
 "cells": [
  {
   "cell_type": "code",
   "execution_count": 4,
   "id": "4a7c8f4a35c7bb91",
   "metadata": {
    "collapsed": false
   },
   "outputs": [],
   "source": [
    "import pandas as pd\n",
    "from pyecharts import options as opts\n",
    "from pyecharts.charts import Bar"
   ]
  },
  {
   "cell_type": "code",
   "execution_count": 6,
   "id": "d9ad1c1e",
   "metadata": {},
   "outputs": [
    {
     "name": "stdout",
     "output_type": "stream",
     "text": [
      "/Users/yql/scut/modeling/data\n"
     ]
    }
   ],
   "source": [
    "import os \n",
    "print(os.getcwd())"
   ]
  },
  {
   "cell_type": "code",
   "execution_count": 19,
   "id": "8301e998",
   "metadata": {},
   "outputs": [],
   "source": [
    "# Step 1: 读取Excel文件并转换为DataFrame\n",
    "excel_file = \"../mask_output/patient_info.xlsx\"\n",
    "df = pd.read_excel(excel_file, sheet_name=1)\n",
    "\n",
    "\n",
    "# 选择从第二行开始的数据\n",
    "df = df.iloc[1:]"
   ]
  },
  {
   "cell_type": "code",
   "execution_count": 24,
   "id": "10c5d77e",
   "metadata": {},
   "outputs": [
    {
     "name": "stdout",
     "output_type": "stream",
     "text": [
      "1      68\n",
      "2      68\n",
      "3      50\n",
      "4      58\n",
      "5      60\n",
      "       ..\n",
      "582    34\n",
      "583    67\n",
      "584    47\n",
      "585    68\n",
      "586    42\n",
      "Name: age, Length: 586, dtype: int64\n"
     ]
    }
   ],
   "source": [
    "print(df['age'])"
   ]
  },
  {
   "cell_type": "markdown",
   "id": "2e5ae5e4",
   "metadata": {},
   "source": [
    "### 根据age字段生成散点图"
   ]
  },
  {
   "cell_type": "code",
   "execution_count": 41,
   "id": "358ed18f",
   "metadata": {},
   "outputs": [
    {
     "name": "stdout",
     "output_type": "stream",
     "text": [
      "(55.0, 65.0]      175\n",
      "(65.0, 75.0]      155\n",
      "(45.0, 55.0]      126\n",
      "(35.0, 45.0]       50\n",
      "(75.0, 85.0]       31\n",
      "(25.0, 35.0]       25\n",
      "(14.999, 25.0]     21\n",
      "(85.0, 95.0]        3\n",
      "Name: age, dtype: int64\n"
     ]
    },
    {
     "data": {
      "text/plain": [
       "'/Users/yql/scut/modeling/data/age_scatter.html'"
      ]
     },
     "execution_count": 41,
     "metadata": {},
     "output_type": "execute_result"
    }
   ],
   "source": [
    "from pyecharts.charts import Scatter\n",
    "from pyecharts import options as opts\n",
    "from pyecharts.render import make_snapshot\n",
    "# 使用 snapshot-selenium 渲染图片\n",
    "from snapshot_selenium import snapshot\n",
    "import math\n",
    "\n",
    "\n",
    "\n",
    "# 计算每个区间的数据点数量\n",
    "age_counts = df['age'].value_counts(bins=age_intervals)\n",
    "print(age_counts)\n",
    "# 提取区间中心作为横坐标\n",
    "age_centers = [(interval.left + interval.right) / 2 for interval in age_counts.index]\n",
    "\n",
    "# 绘制散点图\n",
    "age_scatter = (\n",
    "    Scatter()\n",
    "    .add_xaxis(age_centers)\n",
    "    .add_yaxis(\"Count\", age_counts.tolist(), symbol_size=10)\n",
    "    .set_global_opts(title_opts=opts.TitleOpts(title=\"Scatter Plot of Age Distribution\"))\n",
    "    .set_series_opts(label_opts=opts.LabelOpts(is_show=False))\n",
    ")\n",
    "\n",
    "# 保存图表\n",
    "#make_snapshot(snapshot, age_scatter.render(), \"age.png\")\n",
    "age_scatter.render(\"age_scatter.html\")\n"
   ]
  }
 ],
 "metadata": {
  "kernelspec": {
   "display_name": "Python 3",
   "language": "python",
   "name": "python3"
  },
  "language_info": {
   "codemirror_mode": {
    "name": "ipython",
    "version": 3
   },
   "file_extension": ".py",
   "mimetype": "text/x-python",
   "name": "python",
   "nbconvert_exporter": "python",
   "pygments_lexer": "ipython3",
   "version": "3.9.0"
  }
 },
 "nbformat": 4,
 "nbformat_minor": 5
}
