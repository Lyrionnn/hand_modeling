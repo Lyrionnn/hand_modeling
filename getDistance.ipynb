{
 "cells": [
  {
   "cell_type": "code",
   "execution_count": 13,
   "metadata": {},
   "outputs": [],
   "source": [
    "import csv\n",
    "import os\n",
    "import json\n",
    "import math"
   ]
  },
  {
   "cell_type": "code",
   "execution_count": 14,
   "metadata": {},
   "outputs": [],
   "source": [
    "# 计算2、3、4、5指相对于腕部关键点的距离\n",
    "def get_distance(label):\n",
    "    WT = []\n",
    "    WI = []\n",
    "    WM = []\n",
    "    WR = []\n",
    "    WP = []\n",
    "    for line in label:\n",
    "        x1, y1 = line[1], line[2]\n",
    "        coordinates = [(line[i], line[i + 1]) for i in range(9, 42, 8)]\n",
    "\n",
    "        distances = [math.sqrt((x - x1) ** 2 + (y - y1) ** 2) for x, y in coordinates]\n",
    "\n",
    "        wt_distance, wi_distance, wm_distance, wr_distance, wp_distance = distances\n",
    "\n",
    "        WT.append(wt_distance)\n",
    "        WI.append(wi_distance)\n",
    "        WM.append(wm_distance)\n",
    "        WR.append(wr_distance)\n",
    "        WP.append(wp_distance)\n",
    "\n",
    "    return WT, WI, WM, WR, WP"
   ]
  },
  {
   "cell_type": "code",
   "execution_count": 15,
   "metadata": {},
   "outputs": [],
   "source": [
    "def process(json_path):\n",
    "    with open(json_path, 'r') as file:\n",
    "        data = json.load(file)\n",
    "        label = data[\"label\"]\n",
    "        \n",
    "    WT, WI, WM, WR, WP = get_distance(label)\n",
    "    \n",
    "    #写入文件\n",
    "    file_name = f\"distance_data/{json_path}.csv\"\n",
    "    \n",
    "    with open(file_name, mode='w', newline='') as file:\n",
    "        writer = csv.writer(file)\n",
    "        #写入表头\n",
    "        writer.writerow([\"Frame\", \"Thumb (WT)\", \"Index (WI)\", \"Middle (WM)\", \"Ring (WR)\", \"Pinky (WP)\"])\n",
    "        # 获取最大帧数，确保数据对齐\n",
    "        max_frames = max(len(WT), len(WI), len(WM), len(WR), len(WP))\n",
    "    \n",
    "        # 写入每帧数据\n",
    "        for i in range(max_frames):\n",
    "            writer.writerow([\n",
    "                i + 1, \n",
    "                WT[i] if i < len(WT) else None,\n",
    "                WI[i] if i < len(WI) else None,\n",
    "                WM[i] if i < len(WM) else None,\n",
    "                WR[i] if i < len(WR) else None,\n",
    "                WP[i] if i < len(WP) else None\n",
    "            ])\n",
    "    print(f\"数据已保存到文件 {file_name}\")"
   ]
  },
  {
   "cell_type": "code",
   "execution_count": null,
   "metadata": {},
   "outputs": [],
   "source": [
    "def get_result(label_folder, txt_file):\n",
    "    # 读取txt文件中的序号名\n",
    "    with open(txt_file, 'r') as file:\n",
    "        sequence_numbers = file.read().splitlines()\n",
    "    \n",
    "    # 遍历label文件夹中的文件\n",
    "    for seq_num in sequence_numbers:\n",
    "        left_file = f'p{seq_num}L.json'\n",
    "        left_path = os.path.join(label_folder, left_file)\n",
    "        \n",
    "        right_file = f'p{seq_num}R.json'\n",
    "        right_path = os.path.join(label_folder, right_file)\n",
    "        \n",
    "        # 检查文件是否存在\n",
    "        if os.path.exists(left_path):\n",
    "            left = process(left_path)\n",
    "            #print(single)\n",
    "            #result.append(left)\n",
    "        # else:\n",
    "        #     print(f'File {json_file} does not exist in the label folder.')\n",
    "        \n",
    "        if os.path.exists(right_path):\n",
    "            right = process(right_path)\n",
    "            #result .append(right)\n",
    "            \n",
    "    #return np.array(result)\n"
   ]
  },
  {
   "cell_type": "code",
   "execution_count": 17,
   "metadata": {},
   "outputs": [
    {
     "ename": "FileNotFoundError",
     "evalue": "[Errno 2] No such file or directory: 'distance_data/mask_output/all/p353L.json.csv'",
     "output_type": "error",
     "traceback": [
      "\u001b[0;31m---------------------------------------------------------------------------\u001b[0m",
      "\u001b[0;31mFileNotFoundError\u001b[0m                         Traceback (most recent call last)",
      "Cell \u001b[0;32mIn[17], line 5\u001b[0m\n\u001b[1;32m      2\u001b[0m label_folder \u001b[38;5;241m=\u001b[39m \u001b[38;5;124m'\u001b[39m\u001b[38;5;124mmask_output/all\u001b[39m\u001b[38;5;124m'\u001b[39m  \u001b[38;5;66;03m# label文件夹路径\u001b[39;00m\n\u001b[1;32m      3\u001b[0m \u001b[38;5;66;03m#txt_file = 'mask_output/jinzhuibing.txt'  # jinzhuibing.txt文件路径\u001b[39;00m\n\u001b[0;32m----> 5\u001b[0m \u001b[43mget_result\u001b[49m\u001b[43m(\u001b[49m\u001b[43mlabel_folder\u001b[49m\u001b[43m,\u001b[49m\u001b[43m \u001b[49m\u001b[38;5;124;43m'\u001b[39;49m\u001b[38;5;124;43mmask_output/jinzhuibing.txt\u001b[39;49m\u001b[38;5;124;43m'\u001b[39;49m\u001b[43m)\u001b[49m\n\u001b[1;32m      6\u001b[0m get_result(label_folder, \u001b[38;5;124m'\u001b[39m\u001b[38;5;124mmask_output/pajinseng.txt\u001b[39m\u001b[38;5;124m'\u001b[39m)\n\u001b[1;32m      7\u001b[0m get_result(label_folder, \u001b[38;5;124m'\u001b[39m\u001b[38;5;124mmask_output/yaozhui.txt\u001b[39m\u001b[38;5;124m'\u001b[39m)\n",
      "Cell \u001b[0;32mIn[16], line 16\u001b[0m, in \u001b[0;36mget_result\u001b[0;34m(label_folder, txt_file)\u001b[0m\n\u001b[1;32m     14\u001b[0m \u001b[38;5;66;03m# 检查文件是否存在\u001b[39;00m\n\u001b[1;32m     15\u001b[0m \u001b[38;5;28;01mif\u001b[39;00m os\u001b[38;5;241m.\u001b[39mpath\u001b[38;5;241m.\u001b[39mexists(left_path):\n\u001b[0;32m---> 16\u001b[0m     left \u001b[38;5;241m=\u001b[39m \u001b[43mprocess\u001b[49m\u001b[43m(\u001b[49m\u001b[43mleft_path\u001b[49m\u001b[43m)\u001b[49m\n\u001b[1;32m     17\u001b[0m     \u001b[38;5;66;03m#print(single)\u001b[39;00m\n\u001b[1;32m     18\u001b[0m     \u001b[38;5;66;03m#result.append(left)\u001b[39;00m\n\u001b[1;32m     19\u001b[0m \u001b[38;5;66;03m# else:\u001b[39;00m\n\u001b[1;32m     20\u001b[0m \u001b[38;5;66;03m#     print(f'File {json_file} does not exist in the label folder.')\u001b[39;00m\n\u001b[1;32m     22\u001b[0m \u001b[38;5;28;01mif\u001b[39;00m os\u001b[38;5;241m.\u001b[39mpath\u001b[38;5;241m.\u001b[39mexists(right_path):\n",
      "Cell \u001b[0;32mIn[15], line 11\u001b[0m, in \u001b[0;36mprocess\u001b[0;34m(json_path)\u001b[0m\n\u001b[1;32m      8\u001b[0m \u001b[38;5;66;03m#写入文件\u001b[39;00m\n\u001b[1;32m      9\u001b[0m file_name \u001b[38;5;241m=\u001b[39m \u001b[38;5;124mf\u001b[39m\u001b[38;5;124m\"\u001b[39m\u001b[38;5;124mdistance_data/\u001b[39m\u001b[38;5;132;01m{\u001b[39;00mjson_path\u001b[38;5;132;01m}\u001b[39;00m\u001b[38;5;124m.csv\u001b[39m\u001b[38;5;124m\"\u001b[39m\n\u001b[0;32m---> 11\u001b[0m \u001b[38;5;28;01mwith\u001b[39;00m \u001b[38;5;28;43mopen\u001b[39;49m\u001b[43m(\u001b[49m\u001b[43mfile_name\u001b[49m\u001b[43m,\u001b[49m\u001b[43m \u001b[49m\u001b[43mmode\u001b[49m\u001b[38;5;241;43m=\u001b[39;49m\u001b[38;5;124;43m'\u001b[39;49m\u001b[38;5;124;43mw\u001b[39;49m\u001b[38;5;124;43m'\u001b[39;49m\u001b[43m,\u001b[49m\u001b[43m \u001b[49m\u001b[43mnewline\u001b[49m\u001b[38;5;241;43m=\u001b[39;49m\u001b[38;5;124;43m'\u001b[39;49m\u001b[38;5;124;43m'\u001b[39;49m\u001b[43m)\u001b[49m \u001b[38;5;28;01mas\u001b[39;00m file:\n\u001b[1;32m     12\u001b[0m     writer \u001b[38;5;241m=\u001b[39m csv\u001b[38;5;241m.\u001b[39mwriter(file)\n\u001b[1;32m     13\u001b[0m     \u001b[38;5;66;03m#写入表头\u001b[39;00m\n",
      "File \u001b[0;32m~/miniconda3/envs/yql/lib/python3.9/site-packages/IPython/core/interactiveshell.py:310\u001b[0m, in \u001b[0;36m_modified_open\u001b[0;34m(file, *args, **kwargs)\u001b[0m\n\u001b[1;32m    303\u001b[0m \u001b[38;5;28;01mif\u001b[39;00m file \u001b[38;5;129;01min\u001b[39;00m {\u001b[38;5;241m0\u001b[39m, \u001b[38;5;241m1\u001b[39m, \u001b[38;5;241m2\u001b[39m}:\n\u001b[1;32m    304\u001b[0m     \u001b[38;5;28;01mraise\u001b[39;00m \u001b[38;5;167;01mValueError\u001b[39;00m(\n\u001b[1;32m    305\u001b[0m         \u001b[38;5;124mf\u001b[39m\u001b[38;5;124m\"\u001b[39m\u001b[38;5;124mIPython won\u001b[39m\u001b[38;5;124m'\u001b[39m\u001b[38;5;124mt let you open fd=\u001b[39m\u001b[38;5;132;01m{\u001b[39;00mfile\u001b[38;5;132;01m}\u001b[39;00m\u001b[38;5;124m by default \u001b[39m\u001b[38;5;124m\"\u001b[39m\n\u001b[1;32m    306\u001b[0m         \u001b[38;5;124m\"\u001b[39m\u001b[38;5;124mas it is likely to crash IPython. If you know what you are doing, \u001b[39m\u001b[38;5;124m\"\u001b[39m\n\u001b[1;32m    307\u001b[0m         \u001b[38;5;124m\"\u001b[39m\u001b[38;5;124myou can use builtins\u001b[39m\u001b[38;5;124m'\u001b[39m\u001b[38;5;124m open.\u001b[39m\u001b[38;5;124m\"\u001b[39m\n\u001b[1;32m    308\u001b[0m     )\n\u001b[0;32m--> 310\u001b[0m \u001b[38;5;28;01mreturn\u001b[39;00m \u001b[43mio_open\u001b[49m\u001b[43m(\u001b[49m\u001b[43mfile\u001b[49m\u001b[43m,\u001b[49m\u001b[43m \u001b[49m\u001b[38;5;241;43m*\u001b[39;49m\u001b[43margs\u001b[49m\u001b[43m,\u001b[49m\u001b[43m \u001b[49m\u001b[38;5;241;43m*\u001b[39;49m\u001b[38;5;241;43m*\u001b[39;49m\u001b[43mkwargs\u001b[49m\u001b[43m)\u001b[49m\n",
      "\u001b[0;31mFileNotFoundError\u001b[0m: [Errno 2] No such file or directory: 'distance_data/mask_output/all/p353L.json.csv'"
     ]
    }
   ],
   "source": [
    "\n",
    "\n",
    "# 定义文件路径\n",
    "label_folder = 'mask_output/all'  # label文件夹路径\n",
    "#txt_file = 'mask_output/jinzhuibing.txt'  # jinzhuibing.txt文件路径\n",
    "\n",
    "get_result(label_folder, 'mask_output/jinzhuibing.txt')\n",
    "get_result(label_folder, 'mask_output/pajinseng.txt')\n",
    "get_result(label_folder, 'mask_output/yaozhui.txt')\n",
    "get_result(label_folder, 'mask_output/zhongfeng.txt')"
   ]
  },
  {
   "cell_type": "code",
   "execution_count": null,
   "metadata": {},
   "outputs": [],
   "source": []
  }
 ],
 "metadata": {
  "kernelspec": {
   "display_name": "yql",
   "language": "python",
   "name": "python3"
  },
  "language_info": {
   "codemirror_mode": {
    "name": "ipython",
    "version": 3
   },
   "file_extension": ".py",
   "mimetype": "text/x-python",
   "name": "python",
   "nbconvert_exporter": "python",
   "pygments_lexer": "ipython3",
   "version": "3.9.19"
  }
 },
 "nbformat": 4,
 "nbformat_minor": 2
}
