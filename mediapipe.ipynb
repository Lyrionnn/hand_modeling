{
 "cells": [
  {
   "cell_type": "code",
   "execution_count": 8,
   "metadata": {},
   "outputs": [],
   "source": [
    "import cv2\n",
    "import mediapipe as mp\n"
   ]
  },
  {
   "cell_type": "code",
   "execution_count": 9,
   "metadata": {},
   "outputs": [],
   "source": [
    "# 初始化 MediaPipe 手部模型\n",
    "mp_hands = mp.solutions.hands\n",
    "hands = mp_hands.Hands(static_image_mode=False,\n",
    "                       max_num_hands=2,\n",
    "                       min_detection_confidence=0.5,\n",
    "                       min_tracking_confidence=0.5)"
   ]
  },
  {
   "cell_type": "code",
   "execution_count": 10,
   "metadata": {},
   "outputs": [
    {
     "name": "stderr",
     "output_type": "stream",
     "text": [
      "W0000 00:00:1722932132.273130   88231 inference_feedback_manager.cc:114] Feedback manager requires a model with a single signature inference. Disabling support for feedback tensors.\n",
      "W0000 00:00:1722932132.304244   88231 inference_feedback_manager.cc:114] Feedback manager requires a model with a single signature inference. Disabling support for feedback tensors.\n"
     ]
    }
   ],
   "source": [
    "# 初始化 MediaPipe 绘图函数\n",
    "mp_drawing = mp.solutions.drawing_utils"
   ]
  },
  {
   "cell_type": "code",
   "execution_count": 11,
   "metadata": {},
   "outputs": [],
   "source": [
    "# 打开本地视频文件\n",
    "video_path = '/video/h118L.mp4'  # 替换为您的视频文件路径\n",
    "cap = cv2.VideoCapture(video_path)"
   ]
  },
  {
   "cell_type": "code",
   "execution_count": 12,
   "metadata": {},
   "outputs": [],
   "source": [
    "while cap.isOpened():\n",
    "    success, image = cap.read()\n",
    "    if not success:\n",
    "        print(\"无法读取视频帧或视频结束\")\n",
    "        break\n",
    "\n",
    "    # 将 BGR 图像转换为 RGB\n",
    "    image = cv2.cvtColor(image, cv2.COLOR_BGR2RGB)\n",
    "\n",
    "    # 处理图像并检测手部\n",
    "    results = hands.process(image)\n",
    "\n",
    "    # 将图像转换回 BGR 以便于 OpenCV 显示\n",
    "    image = cv2.cvtColor(image, cv2.COLOR_RGB2BGR)\n",
    "\n",
    "    # 检测并绘制手部关键点\n",
    "    if results.multi_hand_landmarks:\n",
    "        for hand_landmarks in results.multi_hand_landmarks:\n",
    "            mp_drawing.draw_landmarks(\n",
    "                image, hand_landmarks, mp_hands.HAND_CONNECTIONS)\n",
    "\n",
    "    # 显示图像\n",
    "    cv2.imshow('Hand Landmarks', image)\n",
    "\n",
    "    # 按 'q' 键退出\n",
    "    if cv2.waitKey(5) & 0xFF == ord('q'):\n",
    "        break"
   ]
  },
  {
   "cell_type": "code",
   "execution_count": 13,
   "metadata": {},
   "outputs": [],
   "source": [
    "cap.release()\n"
   ]
  },
  {
   "cell_type": "code",
   "execution_count": 14,
   "metadata": {},
   "outputs": [
    {
     "name": "stderr",
     "output_type": "stream",
     "text": [
      "W0000 00:00:1722933091.635582   88315 inference_feedback_manager.cc:114] Feedback manager requires a model with a single signature inference. Disabling support for feedback tensors.\n",
      "W0000 00:00:1722933091.680129   88314 inference_feedback_manager.cc:114] Feedback manager requires a model with a single signature inference. Disabling support for feedback tensors.\n"
     ]
    }
   ],
   "source": [
    "import cv2\n",
    "import mediapipe as mp\n",
    "import csv\n",
    "import os\n",
    "\n",
    "# 创建文件夹用于保存图像\n",
    "output_folder = 'output_images'\n",
    "os.makedirs(output_folder, exist_ok=True)\n",
    "\n",
    "# 初始化 MediaPipe 手部模型\n",
    "mp_hands = mp.solutions.hands\n",
    "hands = mp_hands.Hands(static_image_mode=False,\n",
    "                       max_num_hands=2,\n",
    "                       min_detection_confidence=0.5,\n",
    "                       min_tracking_confidence=0.5)\n",
    "\n",
    "# 初始化 MediaPipe 绘图函数\n",
    "mp_drawing = mp.solutions.drawing_utils\n",
    "\n",
    "# 打开本地视频文件\n",
    "video_path = '/video/h118L.mp4'  # 替换为您的视频文件路径\n",
    "cap = cv2.VideoCapture(video_path)\n",
    "\n",
    "# 打开 CSV 文件以写入手部关键点\n",
    "csv_file = open('hand_landmarks.csv', mode='w', newline='')\n",
    "csv_writer = csv.writer(csv_file)\n",
    "\n",
    "# 写入 CSV 文件的标题行\n",
    "csv_writer.writerow(['frame', 'hand', 'landmark', 'x', 'y', 'z'])\n",
    "\n",
    "frame_count = 0\n",
    "\n",
    "while cap.isOpened():\n",
    "    success, image = cap.read()\n",
    "    if not success:\n",
    "        print(\"无法读取视频帧或视频结束\")\n",
    "        break\n",
    "\n",
    "    # 将 BGR 图像转换为 RGB\n",
    "    image = cv2.cvtColor(image, cv2.COLOR_BGR2RGB)\n",
    "\n",
    "    # 处理图像并检测手部\n",
    "    results = hands.process(image)\n",
    "\n",
    "    # 将图像转换回 BGR 以便于保存\n",
    "    image = cv2.cvtColor(image, cv2.COLOR_RGB2BGR)\n",
    "\n",
    "    # 检测并绘制手部关键点\n",
    "    if results.multi_hand_landmarks:\n",
    "        for hand_index, hand_landmarks in enumerate(results.multi_hand_landmarks):\n",
    "            mp_drawing.draw_landmarks(\n",
    "                image, hand_landmarks, mp_hands.HAND_CONNECTIONS)\n",
    "\n",
    "            # 保存每个关键点的坐标\n",
    "            for landmark_index, landmark in enumerate(hand_landmarks.landmark):\n",
    "                csv_writer.writerow([frame_count, hand_index, landmark_index,\n",
    "                                     landmark.x, landmark.y, landmark.z])\n",
    "\n",
    "    # 保存当前帧图像\n",
    "    image_filename = os.path.join(output_folder, f'frame_{frame_count}.png')\n",
    "    cv2.imwrite(image_filename, image)\n",
    "\n",
    "    frame_count += 1\n",
    "\n",
    "# 释放视频捕获对象和关闭 CSV 文件\n",
    "cap.release()\n",
    "csv_file.close()\n"
   ]
  }
 ],
 "metadata": {
  "kernelspec": {
   "display_name": "yql",
   "language": "python",
   "name": "python3"
  },
  "language_info": {
   "codemirror_mode": {
    "name": "ipython",
    "version": 3
   },
   "file_extension": ".py",
   "mimetype": "text/x-python",
   "name": "python",
   "nbconvert_exporter": "python",
   "pygments_lexer": "ipython3",
   "version": "3.9.19"
  }
 },
 "nbformat": 4,
 "nbformat_minor": 2
}
